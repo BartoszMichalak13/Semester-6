{
 "cells": [
  {
   "cell_type": "code",
   "execution_count": 1,
   "id": "9a512af2",
   "metadata": {},
   "outputs": [],
   "source": [
    "#This allows us to acces functions we wrote in Task2\n",
    "%run Task2.ipynb"
   ]
  },
  {
   "cell_type": "markdown",
   "id": "cef1f097",
   "metadata": {},
   "source": [
    "1.1"
   ]
  },
  {
   "cell_type": "code",
   "execution_count": 16,
   "id": "5ca00b35",
   "metadata": {},
   "outputs": [],
   "source": [
    "p1 = [1,0,1,0,1]\n",
    "p2 = [-1,-2,-1,0,1]\n",
    "p3 = [-1,0,0,1]"
   ]
  },
  {
   "cell_type": "markdown",
   "id": "d98e1479",
   "metadata": {},
   "source": [
    "Observe that GCD(a,b,c) = GCD(GCD(a,b),c) = GCD(a,GCD(b,c))"
   ]
  },
  {
   "cell_type": "code",
   "execution_count": 17,
   "id": "b0f3a79b",
   "metadata": {},
   "outputs": [],
   "source": [
    "#make deepcopies\n",
    "p11 = copy.deepcopy(p1)\n",
    "p21 = copy.deepcopy(p2)\n",
    "p31 = copy.deepcopy(p3)"
   ]
  },
  {
   "cell_type": "code",
   "execution_count": 18,
   "id": "c5035368",
   "metadata": {},
   "outputs": [
    {
     "data": {
      "text/plain": [
       "[-1, -1.0, -1.0]"
      ]
     },
     "execution_count": 18,
     "metadata": {},
     "output_type": "execute_result"
    }
   ],
   "source": [
    "gcd_polynomial_ring_over_R(p21,p31)"
   ]
  },
  {
   "cell_type": "code",
   "execution_count": 19,
   "id": "41fc8e99",
   "metadata": {},
   "outputs": [],
   "source": [
    "q = gcd_polynomial_ring_over_R(p11, gcd_polynomial_ring_over_R(p21,p31))"
   ]
  },
  {
   "cell_type": "code",
   "execution_count": 20,
   "id": "d961c05f",
   "metadata": {},
   "outputs": [
    {
     "data": {
      "text/plain": [
       "[-1, -1.0, -1.0]"
      ]
     },
     "execution_count": 20,
     "metadata": {},
     "output_type": "execute_result"
    }
   ],
   "source": [
    "q"
   ]
  },
  {
   "cell_type": "markdown",
   "id": "f4240aab",
   "metadata": {},
   "source": [
    "1.2"
   ]
  },
  {
   "cell_type": "code",
   "execution_count": 21,
   "id": "ce2a0848",
   "metadata": {},
   "outputs": [],
   "source": [
    "p1 = [-4,-4,1,1]\n",
    "p2 = [4,-4,-1,1]\n",
    "p3 = [2,-1,-2,1]"
   ]
  },
  {
   "cell_type": "code",
   "execution_count": 22,
   "id": "16d8b4bd",
   "metadata": {},
   "outputs": [],
   "source": [
    "#make deepcopies\n",
    "p11 = copy.deepcopy(p1)\n",
    "p21 = copy.deepcopy(p2)\n",
    "p31 = copy.deepcopy(p3)"
   ]
  },
  {
   "cell_type": "code",
   "execution_count": 23,
   "id": "4f394ab4",
   "metadata": {},
   "outputs": [],
   "source": [
    "q = gcd_polynomial_ring_over_R(p11, gcd_polynomial_ring_over_R(p21,p31))"
   ]
  },
  {
   "cell_type": "code",
   "execution_count": 24,
   "id": "172f8a33",
   "metadata": {},
   "outputs": [
    {
     "data": {
      "text/plain": [
       "[-12.0, 6.0]"
      ]
     },
     "execution_count": 24,
     "metadata": {},
     "output_type": "execute_result"
    }
   ],
   "source": [
    "q"
   ]
  },
  {
   "cell_type": "code",
   "execution_count": null,
   "id": "6ec4ed29",
   "metadata": {},
   "outputs": [],
   "source": []
  },
  {
   "cell_type": "code",
   "execution_count": null,
   "id": "f392c4cd",
   "metadata": {},
   "outputs": [],
   "source": []
  }
 ],
 "metadata": {
  "kernelspec": {
   "display_name": "Python 3 (ipykernel)",
   "language": "python",
   "name": "python3"
  },
  "language_info": {
   "codemirror_mode": {
    "name": "ipython",
    "version": 3
   },
   "file_extension": ".py",
   "mimetype": "text/x-python",
   "name": "python",
   "nbconvert_exporter": "python",
   "pygments_lexer": "ipython3",
   "version": "3.11.5"
  }
 },
 "nbformat": 4,
 "nbformat_minor": 5
}
