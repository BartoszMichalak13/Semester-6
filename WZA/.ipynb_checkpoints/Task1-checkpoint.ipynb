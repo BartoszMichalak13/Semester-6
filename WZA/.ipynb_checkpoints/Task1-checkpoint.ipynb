{
 "cells": [
  {
   "cell_type": "code",
   "execution_count": 2,
   "id": "48df61c8",
   "metadata": {},
   "outputs": [],
   "source": [
    "import cmath\n"
   ]
  },
  {
   "cell_type": "code",
   "execution_count": 11,
   "id": "114d501e",
   "metadata": {},
   "outputs": [],
   "source": [
    "# norm of number g = (x,yi) is equal x^2 + y^2\n",
    "def Gauss_numbers_norm(g: complex):\n",
    "    return pow(g.real,2) + pow(g.imag,2)"
   ]
  },
  {
   "cell_type": "code",
   "execution_count": 16,
   "id": "b59f5b32",
   "metadata": {},
   "outputs": [],
   "source": [
    "# returns 1 if gaussian 0 otherwise\n",
    "def is_Gaussian(g: complex):\n",
    "    if (g.real - int(g.real) == 0 and g.imag - int(g.imag) == 0):\n",
    "        return 1\n",
    "    return 0"
   ]
  },
  {
   "cell_type": "code",
   "execution_count": 27,
   "id": "71f874dc",
   "metadata": {},
   "outputs": [],
   "source": [
    "# performs rest division algorithm that on gaussian numbers\n",
    "def gaussian_remainder_division(a: complex, b: complex):\n",
    "    if (not is_Gaussian(a)):\n",
    "        print(\"a is not gaussian: \", a)\n",
    "        return -1.5, -1.5\n",
    "    if (not is_Gaussian(b)):\n",
    "        print(\"b is not gaussian: \", b)\n",
    "        return -1.5, -1.5\n",
    "    \n",
    "    # TODO check if works correctly\n",
    "    z = a/b\n",
    "    \n",
    "#     print(z)\n",
    "    \n",
    "    q = complex(round(z.real),round(z.imag))\n",
    "    r_real = b*(z.real - q.real)    \n",
    "    r_imag = b*(z.imag - q.imag)\n",
    "    r = complex(r_real, r_imag)\n",
    "    return q, r"
   ]
  },
  {
   "cell_type": "code",
   "execution_count": null,
   "id": "3236d722",
   "metadata": {},
   "outputs": [],
   "source": [
    "def gaussian_gcd(a: complex, b: complex):\n",
    "    "
   ]
  },
  {
   "cell_type": "code",
   "execution_count": 34,
   "id": "1907a9a2",
   "metadata": {},
   "outputs": [],
   "source": [
    "# varaibles\n",
    "a = complex(26,120)\n",
    "b = complex(37,226)"
   ]
  },
  {
   "cell_type": "code",
   "execution_count": 38,
   "id": "cc33250c",
   "metadata": {},
   "outputs": [
    {
     "data": {
      "text/plain": [
       "((1+0j), (-11.000000000000004-106j))"
      ]
     },
     "execution_count": 38,
     "metadata": {},
     "output_type": "execute_result"
    }
   ],
   "source": [
    "# TODO, sprawdzanie czy return is Gaussian \n",
    "gaussian_remainder_division(a,b)"
   ]
  },
  {
   "cell_type": "code",
   "execution_count": null,
   "id": "526a3ff0",
   "metadata": {},
   "outputs": [],
   "source": []
  },
  {
   "cell_type": "code",
   "execution_count": null,
   "id": "fcbc9246",
   "metadata": {},
   "outputs": [],
   "source": []
  },
  {
   "cell_type": "code",
   "execution_count": 35,
   "id": "7996a016",
   "metadata": {},
   "outputs": [
    {
     "data": {
      "text/plain": [
       "1"
      ]
     },
     "execution_count": 35,
     "metadata": {},
     "output_type": "execute_result"
    }
   ],
   "source": [
    "is_Gaussian(a)"
   ]
  },
  {
   "cell_type": "code",
   "execution_count": 36,
   "id": "9f0ab820",
   "metadata": {},
   "outputs": [
    {
     "data": {
      "text/plain": [
       "15076.0"
      ]
     },
     "execution_count": 36,
     "metadata": {},
     "output_type": "execute_result"
    }
   ],
   "source": [
    "Gauss_numbers_norm(a)"
   ]
  },
  {
   "cell_type": "code",
   "execution_count": 37,
   "id": "1c9d6ede",
   "metadata": {},
   "outputs": [
    {
     "data": {
      "text/plain": [
       "((1+0j), (-11.000000000000004-106j))"
      ]
     },
     "execution_count": 37,
     "metadata": {},
     "output_type": "execute_result"
    }
   ],
   "source": [
    "gaussian_remainder_division(a,b)"
   ]
  },
  {
   "cell_type": "code",
   "execution_count": 31,
   "id": "98fc5469",
   "metadata": {},
   "outputs": [
    {
     "data": {
      "text/plain": [
       "10"
      ]
     },
     "execution_count": 31,
     "metadata": {},
     "output_type": "execute_result"
    }
   ],
   "source": [
    "round(10.5)"
   ]
  },
  {
   "cell_type": "code",
   "execution_count": null,
   "id": "a0c99b09",
   "metadata": {},
   "outputs": [],
   "source": []
  }
 ],
 "metadata": {
  "kernelspec": {
   "display_name": "Python 3 (ipykernel)",
   "language": "python",
   "name": "python3"
  },
  "language_info": {
   "codemirror_mode": {
    "name": "ipython",
    "version": 3
   },
   "file_extension": ".py",
   "mimetype": "text/x-python",
   "name": "python",
   "nbconvert_exporter": "python",
   "pygments_lexer": "ipython3",
   "version": "3.11.5"
  }
 },
 "nbformat": 4,
 "nbformat_minor": 5
}
