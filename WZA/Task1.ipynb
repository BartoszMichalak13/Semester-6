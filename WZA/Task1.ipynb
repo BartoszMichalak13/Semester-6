{
 "cells": [
  {
   "cell_type": "code",
   "execution_count": 1,
   "id": "db59f553",
   "metadata": {},
   "outputs": [],
   "source": [
    "import cmath\n"
   ]
  },
  {
   "cell_type": "code",
   "execution_count": 131,
   "id": "8fd00e94",
   "metadata": {},
   "outputs": [],
   "source": [
    "# in current form of complex number representation, don't increase it above 15\n",
    "precission = 13"
   ]
  },
  {
   "cell_type": "code",
   "execution_count": 132,
   "id": "5c7f4ff6",
   "metadata": {},
   "outputs": [],
   "source": [
    "# norm of number g = (x,yi) is equal x^2 + y^2\n",
    "def Gauss_numbers_norm(g: complex):\n",
    "    return pow(g.real,2) + pow(g.imag,2)"
   ]
  },
  {
   "cell_type": "code",
   "execution_count": 133,
   "id": "c03ab39b",
   "metadata": {},
   "outputs": [],
   "source": [
    "#rounds complex number to its gaussian representation\n",
    "def complex_round(g: complex, prec: int):\n",
    "    return complex(round(g.real, prec), round(g.imag, prec))"
   ]
  },
  {
   "cell_type": "code",
   "execution_count": 134,
   "id": "20cd34f2",
   "metadata": {},
   "outputs": [],
   "source": [
    "# returns 1 if gaussian 0 otherwise\n",
    "# we consider only \"precission\"(variable) number of digits\n",
    "# as there are imperfections of calculations caused by number representation\n",
    "def is_Gaussian(g: complex):\n",
    "    if (round(g.real, precission) - int(g.real) == 0 and round(g.imag, precission) - int(g.imag) == 0):\n",
    "        return 1\n",
    "    return 0"
   ]
  },
  {
   "cell_type": "code",
   "execution_count": 135,
   "id": "280e39e6",
   "metadata": {},
   "outputs": [],
   "source": [
    "# performs rest division algorithm that on gaussian numbers\n",
    "def gaussian_remainder_division(a: complex, b: complex):\n",
    "    if (not is_Gaussian(a)):\n",
    "        print(\"a is not gaussian: \", a)\n",
    "        return -1.5, -1.5\n",
    "    if (not is_Gaussian(b)):\n",
    "        print(\"b is not gaussian: \", b)\n",
    "        return -1.5, -1.5\n",
    "    z = a/b    \n",
    "    q = complex(round(z.real),round(z.imag))\n",
    "    r_real = b*(z.real - q.real)    \n",
    "    r_imag = b*(z.imag - q.imag)\n",
    "    r = complex(r_real, r_imag)\n",
    "    return complex_round(q, precission), complex_round(r, precission)"
   ]
  },
  {
   "cell_type": "code",
   "execution_count": 144,
   "id": "9bb0a81e",
   "metadata": {},
   "outputs": [],
   "source": [
    "# calculates gcd of 2 gaussian numbers\n",
    "def gaussian_gcd(a: complex, b: complex):\n",
    "    while (round(b.real, precission) != 0) or (round(b.imag, precission) != 0):\n",
    "#         print(\"a: \", a)\n",
    "#         print(\"b: \", b)\n",
    "        q,r = gaussian_remainder_division(a,b)\n",
    "        if (q == -1.5 or r == -1.5):\n",
    "            print(\"error in remainder calculation r: \", r)\n",
    "            print(\"q: \", q)\n",
    "            return -1.5\n",
    "        a = b\n",
    "        b = r\n",
    "#     print(\"fa: \", a)\n",
    "#     print(\"fb: \", b)\n",
    "    return complex_round(a, precission)"
   ]
  },
  {
   "cell_type": "code",
   "execution_count": 189,
   "id": "47c743ac",
   "metadata": {},
   "outputs": [],
   "source": [
    "#calculates least common multiple of a and b, where a,b are gaussian numbers\n",
    "def gaussian_lcm(a: complex, b: complex):\n",
    "    return complex_round((a*b)/gaussian_gcd(a,b), precission)"
   ]
  },
  {
   "cell_type": "markdown",
   "id": "1f3c0237",
   "metadata": {},
   "source": [
    "Task 1.1"
   ]
  },
  {
   "cell_type": "code",
   "execution_count": 190,
   "id": "849f3dc8",
   "metadata": {},
   "outputs": [],
   "source": [
    "# varaibles\n",
    "a = complex(26,120)\n",
    "b = complex(37,226)"
   ]
  },
  {
   "cell_type": "code",
   "execution_count": 191,
   "id": "4b1e301a",
   "metadata": {},
   "outputs": [
    {
     "data": {
      "text/plain": [
       "((1+0j), (-11-106j))"
      ]
     },
     "execution_count": 191,
     "metadata": {},
     "output_type": "execute_result"
    }
   ],
   "source": [
    "# TODO, sprawdzanie czy return is Gaussian \n",
    "gaussian_remainder_division(a,b)"
   ]
  },
  {
   "cell_type": "markdown",
   "id": "3a082b8d",
   "metadata": {},
   "source": [
    "Task 1.2 uses remainder division to calculate GCD"
   ]
  },
  {
   "cell_type": "code",
   "execution_count": 192,
   "id": "cc0071e1",
   "metadata": {},
   "outputs": [],
   "source": [
    "c = complex(8,4)\n",
    "d = complex(8,2)"
   ]
  },
  {
   "cell_type": "code",
   "execution_count": 193,
   "id": "b7e629f5",
   "metadata": {},
   "outputs": [
    {
     "data": {
      "text/plain": [
       "2j"
      ]
     },
     "execution_count": 193,
     "metadata": {},
     "output_type": "execute_result"
    }
   ],
   "source": [
    "gaussian_gcd(c,d)"
   ]
  },
  {
   "cell_type": "markdown",
   "id": "26e68de3",
   "metadata": {},
   "source": [
    "Task 1.3 NWW(a,b) = a*b/NWD(a,b)\n"
   ]
  },
  {
   "cell_type": "code",
   "execution_count": 199,
   "id": "d5e3a5d4",
   "metadata": {},
   "outputs": [
    {
     "data": {
      "text/plain": [
       "(37+12j)"
      ]
     },
     "execution_count": 199,
     "metadata": {},
     "output_type": "execute_result"
    }
   ],
   "source": [
    "c = complex(8,5)\n",
    "d = complex(1,4)\n",
    "gaussian_lcm(c,d)"
   ]
  },
  {
   "cell_type": "markdown",
   "id": "07e3275a",
   "metadata": {},
   "source": [
    "Task 1.4\n",
    "We know that ideal generated by pair <a,b> is equal to GCD(a,b) and ideal generated by \\<a>sum\\<b> is equal to LCM(a,b) so we calculate those for numbers given in task description "
   ]
  },
  {
   "cell_type": "code",
   "execution_count": 200,
   "id": "b7175f40",
   "metadata": {},
   "outputs": [],
   "source": [
    "a = complex(3,4)\n",
    "b = complex(1,3)"
   ]
  },
  {
   "cell_type": "markdown",
   "id": "e189e247",
   "metadata": {},
   "source": [
    "<a,b> = c = (below)"
   ]
  },
  {
   "cell_type": "code",
   "execution_count": 201,
   "id": "3cc1b7d1",
   "metadata": {},
   "outputs": [
    {
     "data": {
      "text/plain": [
       "(1-2j)"
      ]
     },
     "execution_count": 201,
     "metadata": {},
     "output_type": "execute_result"
    }
   ],
   "source": [
    "gaussian_gcd(a,b)"
   ]
  },
  {
   "cell_type": "markdown",
   "id": "4098d477",
   "metadata": {},
   "source": [
    "\\<a>sum\\<b> = d = (below)"
   ]
  },
  {
   "cell_type": "code",
   "execution_count": 202,
   "id": "7468569d",
   "metadata": {},
   "outputs": [
    {
     "data": {
      "text/plain": [
       "(-7-1j)"
      ]
     },
     "execution_count": 202,
     "metadata": {},
     "output_type": "execute_result"
    }
   ],
   "source": [
    "gaussian_lcm(a,b)"
   ]
  }
 ],
 "metadata": {
  "kernelspec": {
   "display_name": "Python 3 (ipykernel)",
   "language": "python",
   "name": "python3"
  },
  "language_info": {
   "codemirror_mode": {
    "name": "ipython",
    "version": 3
   },
   "file_extension": ".py",
   "mimetype": "text/x-python",
   "name": "python",
   "nbconvert_exporter": "python",
   "pygments_lexer": "ipython3",
   "version": "3.11.5"
  }
 },
 "nbformat": 4,
 "nbformat_minor": 5
}
