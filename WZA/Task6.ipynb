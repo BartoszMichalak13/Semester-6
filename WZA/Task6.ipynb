{
 "cells": [
  {
   "cell_type": "code",
   "execution_count": 9,
   "id": "6bfebea8",
   "metadata": {},
   "outputs": [],
   "source": [
    "import numpy as np\n",
    "import sys "
   ]
  },
  {
   "cell_type": "code",
   "execution_count": 10,
   "id": "76072742",
   "metadata": {},
   "outputs": [],
   "source": [
    "#class for n-dimensional point\n",
    "class nDpoint:\n",
    "    \n",
    "    def __init__(self, *args):\n",
    "        d = []\n",
    "        for i,xi in enumerate(args):\n",
    "            d += [xi]\n",
    "        self.d = d\n",
    "        return\n",
    "    def __eq__(self, other):\n",
    "        return self.d == other.d"
   ]
  },
  {
   "cell_type": "code",
   "execution_count": 11,
   "id": "7832aeb3",
   "metadata": {},
   "outputs": [],
   "source": [
    "#find min in given axis\n",
    "def minInAxis(A: list[nDpoint], k: int) -> list[nDpoint]: \n",
    "    minimal = sys.maxsize\n",
    "    M = []\n",
    "    #find minimal value for given axis\n",
    "    for i in range(0,len(A)):\n",
    "        if A[i].d[k] < minimal:\n",
    "            minimal = A[i].d[k]\n",
    "            \n",
    "    for i in range(0,len(A)):\n",
    "        if A[i].d[k] == minimal:\n",
    "            M.append(A[i])\n",
    "    return M"
   ]
  },
  {
   "cell_type": "code",
   "execution_count": 12,
   "id": "9df093e4",
   "metadata": {},
   "outputs": [],
   "source": [
    "def minimalPoints(A: list[nDpoint]) -> list[nDpoint]:\n",
    "    M = []\n",
    "    if len(A) == 0:\n",
    "        raise IndexError(\"Passed empty list\")\n",
    "        return None\n",
    "    dimensions = len(A[0].d)\n",
    "    if dimensions == 0:\n",
    "        raise IndexError(\"Passed list has empty cell\")\n",
    "        return None\n",
    "    while len(A) != 0:\n",
    "        Mklist = A\n",
    "        #we find minimum for dimension_1 and select all points with that value\n",
    "        #we do the same for dimension_2 for all points selected before\n",
    "        #At the end Mk should boil down to single point, one of minimal points\n",
    "        for k in range(0,dimensions):\n",
    "            Mklist = minInAxis(Mklist,k)\n",
    "        Mk = Mklist[0]\n",
    "        M.append(Mk)\n",
    "\n",
    "        indexList = []\n",
    "        for i in range(0,len(A)):\n",
    "            larger = 1\n",
    "            for k in range(0,dimensions):\n",
    "                # if a is smaller at any dimension we left it as is\n",
    "                # otherwise we may remove it (we'll do it later)\n",
    "                # it is worth noting that !(Mk<Mk) so Mk >= Mk\n",
    "                # and consequently it's added to the indexList \n",
    "                if A[i].d[k] < Mk.d[k]:\n",
    "                    larger = 0\n",
    "                    break\n",
    "            if larger:\n",
    "                indexList.append(i)\n",
    "        #safe way to delete elements    \n",
    "        for i in sorted(indexList, reverse=True):\n",
    "            del A[i] \n",
    "    return M"
   ]
  },
  {
   "cell_type": "code",
   "execution_count": 13,
   "id": "042b50ff",
   "metadata": {},
   "outputs": [],
   "source": [
    "#define params\n",
    "size = 12"
   ]
  },
  {
   "cell_type": "code",
   "execution_count": 14,
   "id": "c651d8c0",
   "metadata": {},
   "outputs": [],
   "source": [
    "B: list[nDpoint] = list()\n",
    "for i in range(0,size):\n",
    "    for j in range(0,size):\n",
    "        if i * j >= 11:\n",
    "            B.append(nDpoint(i,j))"
   ]
  },
  {
   "cell_type": "code",
   "execution_count": 15,
   "id": "75b17749",
   "metadata": {},
   "outputs": [
    {
     "name": "stdout",
     "output_type": "stream",
     "text": [
      "[1, 11]\n",
      "[2, 6]\n",
      "[3, 4]\n",
      "[4, 3]\n",
      "[6, 2]\n",
      "[11, 1]\n"
     ]
    }
   ],
   "source": [
    "M = minimalPoints(B)\n",
    "for m in M:\n",
    "    print(m.d)"
   ]
  },
  {
   "cell_type": "code",
   "execution_count": 16,
   "id": "1df4a1b8",
   "metadata": {},
   "outputs": [
    {
     "data": {
      "text/plain": [
       "6"
      ]
     },
     "execution_count": 16,
     "metadata": {},
     "output_type": "execute_result"
    }
   ],
   "source": [
    "len(M)"
   ]
  },
  {
   "cell_type": "code",
   "execution_count": null,
   "id": "671d90f3",
   "metadata": {},
   "outputs": [],
   "source": []
  },
  {
   "cell_type": "code",
   "execution_count": null,
   "id": "d143b55d",
   "metadata": {},
   "outputs": [],
   "source": []
  },
  {
   "cell_type": "code",
   "execution_count": null,
   "id": "e6662fdb",
   "metadata": {},
   "outputs": [],
   "source": []
  }
 ],
 "metadata": {
  "kernelspec": {
   "display_name": "Python 3 (ipykernel)",
   "language": "python",
   "name": "python3"
  },
  "language_info": {
   "codemirror_mode": {
    "name": "ipython",
    "version": 3
   },
   "file_extension": ".py",
   "mimetype": "text/x-python",
   "name": "python",
   "nbconvert_exporter": "python",
   "pygments_lexer": "ipython3",
   "version": "3.11.5"
  }
 },
 "nbformat": 4,
 "nbformat_minor": 5
}
