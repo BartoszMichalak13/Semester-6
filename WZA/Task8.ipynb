{
 "cells": [
  {
   "cell_type": "code",
   "execution_count": 9,
   "id": "7ba28809",
   "metadata": {
    "scrolled": true
   },
   "outputs": [],
   "source": [
    "import numpy as np\n",
    "\n",
    "#This allows us to acces functions we wrote in Task2\n",
    "%run Task2.ipynb"
   ]
  },
  {
   "cell_type": "code",
   "execution_count": 10,
   "id": "96d40a7a",
   "metadata": {},
   "outputs": [],
   "source": [
    "#performs substraction of b from a\n",
    "def polysub(a: list, b: list):\n",
    "    min_len = min(len(b),len(a))\n",
    "    c: list = []\n",
    "    for i in range(0,min_len):\n",
    "        c.append(a[0]-b[0])\n",
    "\n",
    "    if len(a) > len(b):\n",
    "        for i in (min_len, len(a) - 1):\n",
    "            c.append(a[i])\n",
    "    elif len(b) < len(a):\n",
    "        for i in (min_len, len(b) - 1):\n",
    "            c.append(b[i])\n",
    "    return remove_trailing_zeros(c)"
   ]
  },
  {
   "cell_type": "code",
   "execution_count": 11,
   "id": "2480ded9",
   "metadata": {},
   "outputs": [],
   "source": [
    "def ExtendedEuclid(a: list, b: list):\n",
    "    if (len(b) == 1 and b[0] == 0.0) or b == []: #the zero poly\n",
    "        return (a, [1.0], [0,0])\n",
    "    (q,r) = rest_division_polynomial_ring_over_R(a,b)\n",
    "    (d,x,y) = ExtendedEuclid(b,r)\n",
    "    return (d,y,polysub(x,poly_multiplication(q,y))) #(d,y,x-qy)"
   ]
  },
  {
   "cell_type": "code",
   "execution_count": 12,
   "id": "fce9dde1",
   "metadata": {},
   "outputs": [],
   "source": [
    "p1 = [1,5,6,2]\n",
    "p2 = [3,2,4]"
   ]
  },
  {
   "cell_type": "code",
   "execution_count": 13,
   "id": "df843ba6",
   "metadata": {},
   "outputs": [],
   "source": [
    "p12 = copy.deepcopy(p1) \n",
    "p22 = copy.deepcopy(p2) \n",
    "q,r = rest_division_polynomial_ring_over_R(p12,p22)"
   ]
  },
  {
   "cell_type": "code",
   "execution_count": 14,
   "id": "c58ea3ff",
   "metadata": {},
   "outputs": [
    {
     "data": {
      "text/plain": [
       "[1.25, 0.5]"
      ]
     },
     "execution_count": 14,
     "metadata": {},
     "output_type": "execute_result"
    }
   ],
   "source": [
    "q"
   ]
  },
  {
   "cell_type": "code",
   "execution_count": 15,
   "id": "44df18cd",
   "metadata": {},
   "outputs": [],
   "source": [
    "A = [6,5,1]\n",
    "B = [2,3,1]"
   ]
  },
  {
   "cell_type": "code",
   "execution_count": 16,
   "id": "de7ffca8",
   "metadata": {},
   "outputs": [
    {
     "data": {
      "text/plain": [
       "([4.0, 2.0], [1.0], [-1.0])"
      ]
     },
     "execution_count": 16,
     "metadata": {},
     "output_type": "execute_result"
    }
   ],
   "source": [
    "ExtendedEuclid(A,B)"
   ]
  },
  {
   "cell_type": "code",
   "execution_count": 19,
   "id": "fa334eee",
   "metadata": {},
   "outputs": [],
   "source": [
    "A2 = [1,0,1]\n",
    "B2 = [-1,0,1]"
   ]
  },
  {
   "cell_type": "code",
   "execution_count": 21,
   "id": "75d8ae91",
   "metadata": {},
   "outputs": [
    {
     "data": {
      "text/plain": [
       "([2.0], [1.0], [-1.0])"
      ]
     },
     "execution_count": 21,
     "metadata": {},
     "output_type": "execute_result"
    }
   ],
   "source": [
    "ExtendedEuclid(A2,B2)"
   ]
  },
  {
   "cell_type": "code",
   "execution_count": 20,
   "id": "9783bc4e",
   "metadata": {},
   "outputs": [
    {
     "data": {
      "text/plain": [
       "[2.0]"
      ]
     },
     "execution_count": 20,
     "metadata": {},
     "output_type": "execute_result"
    }
   ],
   "source": [
    "gcd_polynomial_ring_over_R(A2,B2)"
   ]
  },
  {
   "cell_type": "code",
   "execution_count": null,
   "id": "805bc039",
   "metadata": {},
   "outputs": [],
   "source": []
  }
 ],
 "metadata": {
  "kernelspec": {
   "display_name": "Python 3 (ipykernel)",
   "language": "python",
   "name": "python3"
  },
  "language_info": {
   "codemirror_mode": {
    "name": "ipython",
    "version": 3
   },
   "file_extension": ".py",
   "mimetype": "text/x-python",
   "name": "python",
   "nbconvert_exporter": "python",
   "pygments_lexer": "ipython3",
   "version": "3.11.5"
  }
 },
 "nbformat": 4,
 "nbformat_minor": 5
}
