{
 "cells": [
  {
   "cell_type": "code",
   "execution_count": 1,
   "id": "10cb11a1",
   "metadata": {},
   "outputs": [],
   "source": [
    "from itertools import dropwhile #to remove trailing zeros from the list\n",
    "import copy"
   ]
  },
  {
   "cell_type": "code",
   "execution_count": 2,
   "id": "f1c91698",
   "metadata": {},
   "outputs": [],
   "source": [
    "def remove_trailing_zeros(a: list):\n",
    "    return list(reversed(tuple(dropwhile(lambda x: x == 0, \n",
    "                                    reversed(a)))))"
   ]
  },
  {
   "cell_type": "code",
   "execution_count": 3,
   "id": "ee53344f",
   "metadata": {},
   "outputs": [],
   "source": [
    "# used as support function in rest_division_polynomial_ring_over_R\n",
    "def rest_div_sub_polynomials(a: list, b: list, coefficient: int):\n",
    "    a_len = len(a)\n",
    "    b_len = len(b)    \n",
    "    len_dif = a_len - b_len\n",
    "    # it gets reduced to zero\n",
    "    a[a_len - 1] = 0\n",
    "    i = 2\n",
    "    while a_len - i >= 0 and b_len - i >= 0:\n",
    "        a[a_len - i] = a[a_len - i] - coefficient * b[b_len - i]\n",
    "        i += 1\n",
    "    # removes trailing 0-s\n",
    "    res = remove_trailing_zeros(a)\n",
    "    return res"
   ]
  },
  {
   "cell_type": "code",
   "execution_count": 4,
   "id": "4862d748",
   "metadata": {},
   "outputs": [],
   "source": [
    "# calculates division with remainder in polynomial\n",
    "def rest_division_polynomial_ring_over_R(a: list, b: list):\n",
    "    b_len = len(b)\n",
    "    c: list = []\n",
    "    #NOTE: IT WORKS IF SUB REDUCES LEN OF a\n",
    "    while 1:\n",
    "        a_len = len(a)\n",
    "        c_len = a_len - b_len\n",
    "        if c_len < 0:\n",
    "            #here a is rest of division\n",
    "            return c, a\n",
    "        coefficient = a[a_len - 1]/b[b_len - 1]\n",
    "        c.insert(0, coefficient)\n",
    "        a = rest_div_sub_polynomials(a,b,coefficient)"
   ]
  },
  {
   "cell_type": "code",
   "execution_count": 5,
   "id": "6a10f971",
   "metadata": {},
   "outputs": [],
   "source": [
    "#observation: if a = bq + r then gcd(a,b) = gcd(b,r)\n",
    "def gcd_polynomial_ring_over_R(a: list, b:list):\n",
    "    while 1:\n",
    "        q,r = rest_division_polynomial_ring_over_R(copy.deepcopy(a),copy.deepcopy(b))\n",
    "        if r == []:\n",
    "            return b\n",
    "        a = b\n",
    "        b = r"
   ]
  },
  {
   "cell_type": "code",
   "execution_count": 6,
   "id": "4dbb10dc",
   "metadata": {},
   "outputs": [],
   "source": [
    "#performs multpiplicatioon of two polynomials\n",
    "def poly_multiplication(a: list, b:list):\n",
    "    a = remove_trailing_zeros(a)\n",
    "    b = remove_trailing_zeros(b)\n",
    "    a_len = len(a)\n",
    "    b_len = len(b)\n",
    "    c: list = []\n",
    "    i = 0\n",
    "    \n",
    "    #create empty c (-2 and + 1)\n",
    "    while i < a_len + b_len - 1:\n",
    "        c.insert(0,0)\n",
    "        i += 1\n",
    "\n",
    "    i = 0\n",
    "    while b_len - i > 0:\n",
    "        j = 0\n",
    "        while a_len - j > 0:\n",
    "            c[j+i] = c[j+i] + b[i]*a[j]\n",
    "            j += 1\n",
    "        i += 1\n",
    "    \n",
    "    return c\n",
    "        "
   ]
  },
  {
   "cell_type": "code",
   "execution_count": 7,
   "id": "2158da21",
   "metadata": {},
   "outputs": [],
   "source": [
    "# lcm(a,b) = a*b/gcd(a,b)*dom(a)*dom(b), where dom(y) = an for y = a0+a1x+...+anx^n\n",
    "def lcm_polynomial_ring_over_R(a: list, b:list):\n",
    "    return rest_division_polynomial_ring_over_R( \\\n",
    "                poly_multiplication(copy.deepcopy(a),copy.deepcopy(b)),\\\n",
    "                gcd_polynomial_ring_over_R(copy.deepcopy(a),copy.deepcopy(b))*a[len(a)-1]*b[len(b)-1])"
   ]
  },
  {
   "cell_type": "markdown",
   "id": "ae6658b6",
   "metadata": {},
   "source": [
    "Task 1.1"
   ]
  },
  {
   "cell_type": "code",
   "execution_count": 8,
   "id": "29b40a83",
   "metadata": {},
   "outputs": [],
   "source": [
    "p1 = [1,5,6,2]\n",
    "p2 = [3,2,4]\n",
    "# p1 = [-1,0,1]\n",
    "# p2 = [1,1]"
   ]
  },
  {
   "cell_type": "code",
   "execution_count": 9,
   "id": "22094170",
   "metadata": {},
   "outputs": [],
   "source": [
    "#it is CRUCIAL to send deepcopy\n",
    "p12 = copy.deepcopy(p1) \n",
    "p22 = copy.deepcopy(p2) \n",
    "q,r = rest_division_polynomial_ring_over_R(p12,p22)"
   ]
  },
  {
   "cell_type": "code",
   "execution_count": 10,
   "id": "e93bda64",
   "metadata": {},
   "outputs": [
    {
     "data": {
      "text/plain": [
       "[1.25, 0.5]"
      ]
     },
     "execution_count": 10,
     "metadata": {},
     "output_type": "execute_result"
    }
   ],
   "source": [
    "q"
   ]
  },
  {
   "cell_type": "code",
   "execution_count": 11,
   "id": "d5052492",
   "metadata": {},
   "outputs": [
    {
     "data": {
      "text/plain": [
       "[-2.75, 1.0]"
      ]
     },
     "execution_count": 11,
     "metadata": {},
     "output_type": "execute_result"
    }
   ],
   "source": [
    "r"
   ]
  },
  {
   "cell_type": "code",
   "execution_count": 12,
   "id": "956eb212",
   "metadata": {},
   "outputs": [
    {
     "data": {
      "text/plain": [
       "[1, 5, 6, 2]"
      ]
     },
     "execution_count": 12,
     "metadata": {},
     "output_type": "execute_result"
    }
   ],
   "source": [
    "p1"
   ]
  },
  {
   "cell_type": "markdown",
   "id": "cbb071b0",
   "metadata": {},
   "source": [
    "Task 1.2"
   ]
  },
  {
   "cell_type": "code",
   "execution_count": 13,
   "id": "477d40e8",
   "metadata": {},
   "outputs": [
    {
     "data": {
      "text/plain": [
       "[38.75]"
      ]
     },
     "execution_count": 13,
     "metadata": {},
     "output_type": "execute_result"
    }
   ],
   "source": [
    "p12 = copy.deepcopy(p1) \n",
    "p22 = copy.deepcopy(p2) \n",
    "gcd_polynomial_ring_over_R(p12, p22)"
   ]
  },
  {
   "cell_type": "code",
   "execution_count": 14,
   "id": "423a0e53",
   "metadata": {},
   "outputs": [],
   "source": [
    "# p3 = [1,2,1]\n",
    "# p4 = [-1,0,1]\n",
    "\n",
    "#gcd = 3x + 3\n",
    "p3 = [-1,-1,1,1]\n",
    "p4 = [2,3,1]"
   ]
  },
  {
   "cell_type": "code",
   "execution_count": 15,
   "id": "1a5a6418",
   "metadata": {},
   "outputs": [
    {
     "data": {
      "text/plain": [
       "[3.0, 3.0]"
      ]
     },
     "execution_count": 15,
     "metadata": {},
     "output_type": "execute_result"
    }
   ],
   "source": [
    "p32 = copy.deepcopy(p3) \n",
    "p42 = copy.deepcopy(p4) \n",
    "gcd_polynomial_ring_over_R(p32, p42)"
   ]
  },
  {
   "cell_type": "code",
   "execution_count": 16,
   "id": "367c52a0",
   "metadata": {},
   "outputs": [],
   "source": [
    "p32 = copy.deepcopy(p3) \n",
    "p42 = copy.deepcopy(p4) \n",
    "q,r = rest_division_polynomial_ring_over_R(p32,p42)"
   ]
  },
  {
   "cell_type": "code",
   "execution_count": 17,
   "id": "3e591a4a",
   "metadata": {},
   "outputs": [
    {
     "data": {
      "text/plain": [
       "[-2.0, 1.0]"
      ]
     },
     "execution_count": 17,
     "metadata": {},
     "output_type": "execute_result"
    }
   ],
   "source": [
    "q"
   ]
  },
  {
   "cell_type": "code",
   "execution_count": 18,
   "id": "8cb0f7ae",
   "metadata": {},
   "outputs": [
    {
     "data": {
      "text/plain": [
       "[3.0, 3.0]"
      ]
     },
     "execution_count": 18,
     "metadata": {},
     "output_type": "execute_result"
    }
   ],
   "source": [
    "r"
   ]
  },
  {
   "cell_type": "markdown",
   "id": "474841ca",
   "metadata": {},
   "source": [
    "Task 1.3"
   ]
  },
  {
   "cell_type": "code",
   "execution_count": 19,
   "id": "ce947c18",
   "metadata": {},
   "outputs": [
    {
     "data": {
      "text/plain": [
       "[-1, -1, 1, 1]"
      ]
     },
     "execution_count": 19,
     "metadata": {},
     "output_type": "execute_result"
    }
   ],
   "source": [
    "g = [1,1]\n",
    "h = [-1,0,1]\n",
    "poly_multiplication(g,h)"
   ]
  },
  {
   "cell_type": "code",
   "execution_count": 20,
   "id": "34e96fbe",
   "metadata": {},
   "outputs": [],
   "source": [
    "q,r = lcm_polynomial_ring_over_R(g,h)"
   ]
  },
  {
   "cell_type": "code",
   "execution_count": 21,
   "id": "f4c5503c",
   "metadata": {},
   "outputs": [
    {
     "data": {
      "text/plain": [
       "[-1.0, 1.0]"
      ]
     },
     "execution_count": 21,
     "metadata": {},
     "output_type": "execute_result"
    }
   ],
   "source": [
    "q"
   ]
  },
  {
   "cell_type": "code",
   "execution_count": 22,
   "id": "1165fe2d",
   "metadata": {},
   "outputs": [
    {
     "data": {
      "text/plain": [
       "[]"
      ]
     },
     "execution_count": 22,
     "metadata": {},
     "output_type": "execute_result"
    }
   ],
   "source": [
    "r"
   ]
  },
  {
   "cell_type": "code",
   "execution_count": 23,
   "id": "e7857080",
   "metadata": {},
   "outputs": [],
   "source": [
    "g = [1,2,1]\n",
    "h = [1,1]\n",
    "\n",
    "q,r = lcm_polynomial_ring_over_R(g,h)"
   ]
  },
  {
   "cell_type": "code",
   "execution_count": 24,
   "id": "48a58979",
   "metadata": {},
   "outputs": [
    {
     "data": {
      "text/plain": [
       "[1.0, 2.0, 1.0]"
      ]
     },
     "execution_count": 24,
     "metadata": {},
     "output_type": "execute_result"
    }
   ],
   "source": [
    "q"
   ]
  },
  {
   "cell_type": "code",
   "execution_count": 25,
   "id": "2b589501",
   "metadata": {},
   "outputs": [
    {
     "data": {
      "text/plain": [
       "[]"
      ]
     },
     "execution_count": 25,
     "metadata": {},
     "output_type": "execute_result"
    }
   ],
   "source": [
    "r"
   ]
  },
  {
   "cell_type": "markdown",
   "id": "95fa88c4",
   "metadata": {},
   "source": [
    "Task 1.4"
   ]
  },
  {
   "cell_type": "code",
   "execution_count": 26,
   "id": "165d4fe5",
   "metadata": {},
   "outputs": [],
   "source": [
    "ax = [1,0,1]\n",
    "bx = [1,2,1]"
   ]
  },
  {
   "cell_type": "code",
   "execution_count": 27,
   "id": "6f9c145b",
   "metadata": {},
   "outputs": [
    {
     "data": {
      "text/plain": [
       "[1.0]"
      ]
     },
     "execution_count": 27,
     "metadata": {},
     "output_type": "execute_result"
    }
   ],
   "source": [
    "cx = gcd_polynomial_ring_over_R(copy.deepcopy(ax),copy.deepcopy(bx))\n",
    "cx"
   ]
  },
  {
   "cell_type": "code",
   "execution_count": 28,
   "id": "3a7fd9a8",
   "metadata": {},
   "outputs": [
    {
     "data": {
      "text/plain": [
       "[1.0, 2.0, 2.0, 2.0, 1.0]"
      ]
     },
     "execution_count": 28,
     "metadata": {},
     "output_type": "execute_result"
    }
   ],
   "source": [
    "dx,r = lcm_polynomial_ring_over_R(copy.deepcopy(ax),copy.deepcopy(bx))\n",
    "dx"
   ]
  }
 ],
 "metadata": {
  "kernelspec": {
   "display_name": "Python 3 (ipykernel)",
   "language": "python",
   "name": "python3"
  },
  "language_info": {
   "codemirror_mode": {
    "name": "ipython",
    "version": 3
   },
   "file_extension": ".py",
   "mimetype": "text/x-python",
   "name": "python",
   "nbconvert_exporter": "python",
   "pygments_lexer": "ipython3",
   "version": "3.11.5"
  }
 },
 "nbformat": 4,
 "nbformat_minor": 5
}
